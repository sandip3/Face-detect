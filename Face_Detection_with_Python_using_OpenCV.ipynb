{
 "cells": [
  {
   "cell_type": "code",
   "execution_count": 1,
   "metadata": {},
   "outputs": [],
   "source": [
    "#Proprietary content. © Great Learning. All Rights Reserved. Unauthorized use or distribution prohibited."
   ]
  },
  {
   "cell_type": "markdown",
   "metadata": {
    "id": "h4O4QuvzjAv_"
   },
   "source": [
    "# **Face Detection with Python using OpenCV**"
   ]
  },
  {
   "cell_type": "markdown",
   "metadata": {
    "id": "QwKTJQujjKfT"
   },
   "source": [
    "**Import the OpenCV library**"
   ]
  },
  {
   "cell_type": "code",
   "execution_count": 2,
   "metadata": {
    "id": "tbnyKID1fg9W"
   },
   "outputs": [],
   "source": [
    "import cv2"
   ]
  },
  {
   "cell_type": "markdown",
   "metadata": {
    "id": "e43-7jkFjTfO"
   },
   "source": [
    "**Using the pre-trained classifier from OpenCV**"
   ]
  },
  {
   "cell_type": "code",
   "execution_count": 3,
   "metadata": {
    "id": "w9REHTTogj-O"
   },
   "outputs": [],
   "source": [
    "face_cascade = cv2.CascadeClassifier('Project/haarcascades/haarcascade_frontalface_default.xml') #Load the cascade"
   ]
  },
  {
   "cell_type": "markdown",
   "metadata": {
    "id": "CzJU35JbjZQe"
   },
   "source": [
    "**Upload the imput image**"
   ]
  },
  {
   "cell_type": "code",
   "execution_count": 4,
   "metadata": {
    "id": "CMezMPGth3v_"
   },
   "outputs": [],
   "source": [
    "img = cv2.imread('wallpaperflare.com_wallpaper(3).jpg') #Read the input image"
   ]
  },
  {
   "cell_type": "markdown",
   "metadata": {
    "id": "AfgU4e_EjcYG"
   },
   "source": [
    "**Perform face detection**"
   ]
  },
  {
   "cell_type": "code",
   "execution_count": 5,
   "metadata": {
    "id": "RC4Tchhgh6Su"
   },
   "outputs": [],
   "source": [
    "faces = face_cascade.detectMultiScale(img, 1.1, 4) #Detect faces"
   ]
  },
  {
   "cell_type": "markdown",
   "metadata": {
    "id": "Jb6Ebwwhjedv"
   },
   "source": [
    "**Drawing rectangle around the faces**"
   ]
  },
  {
   "cell_type": "code",
   "execution_count": 6,
   "metadata": {
    "id": "sJGqpdxHh8te"
   },
   "outputs": [],
   "source": [
    "#Draw rectangle around the faces\n",
    "for (x, y, w, h) in faces: \n",
    "  cv2.rectangle(img, (x, y), (x+w, y+h), (255, 0, 0), 2)"
   ]
  },
  {
   "cell_type": "markdown",
   "metadata": {
    "id": "aWWlE6VGjhnn"
   },
   "source": [
    "**Exporting the image file**"
   ]
  },
  {
   "cell_type": "code",
   "execution_count": 8,
   "metadata": {
    "colab": {
     "base_uri": "https://localhost:8080/"
    },
    "id": "I7Xj6Tplh-_2",
    "outputId": "e9b801c6-95e6-49a0-bcb8-28806e5c6254"
   },
   "outputs": [
    {
     "name": "stdout",
     "output_type": "stream",
     "text": [
      "Photo successfully exported!\n"
     ]
    }
   ],
   "source": [
    "#Export the result\n",
    "cv2.imwrite(\"face_detected.png\", img) \n",
    "print('Photo successfully exported!')"
   ]
  },
  {
   "cell_type": "markdown",
   "metadata": {
    "id": "5zyBWfTdjj5P"
   },
   "source": [
    "\n",
    "\n",
    "---\n",
    "\n"
   ]
  }
 ],
 "metadata": {
  "accelerator": "GPU",
  "colab": {
   "collapsed_sections": [],
   "name": "Face Detection with Python using OpenCV",
   "provenance": []
  },
  "kernelspec": {
   "display_name": "Python 3",
   "language": "python",
   "name": "python3"
  },
  "language_info": {
   "codemirror_mode": {
    "name": "ipython",
    "version": 3
   },
   "file_extension": ".py",
   "mimetype": "text/x-python",
   "name": "python",
   "nbconvert_exporter": "python",
   "pygments_lexer": "ipython3",
   "version": "3.11.5"
  }
 },
 "nbformat": 4,
 "nbformat_minor": 1
}
